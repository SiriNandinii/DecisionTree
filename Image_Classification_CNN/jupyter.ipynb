{
  "cells": [
    {
      "cell_type": "code",
      "source": [
        "import numpy as np\n",
        "from tensorflow.keras.models import Sequential\n",
        "from tensorflow.keras.layers import Conv2D, MaxPooling2D, Dense, Flatten"
      ],
      "metadata": {
        "id": "31uUFFM_-eOz"
      },
      "id": "31uUFFM_-eOz",
      "execution_count": 2,
      "outputs": []
    },
    {
      "cell_type": "markdown",
      "source": [
        "**Load Dataset**"
      ],
      "metadata": {
        "id": "g-YRP__H-6B8"
      },
      "id": "g-YRP__H-6B8"
    },
    {
      "cell_type": "code",
      "source": [],
      "metadata": {
        "id": "gfNsmzA0_NAa"
      },
      "id": "gfNsmzA0_NAa",
      "execution_count": null,
      "outputs": []
    }
  ],
  "metadata": {
    "kernelspec": {
      "display_name": "Python 3",
      "name": "python3"
    },
    "language_info": {
      "name": "python"
    },
    "required_libs": [],
    "colab": {
      "provenance": []
    }
  },
  "nbformat": 4,
  "nbformat_minor": 5
}